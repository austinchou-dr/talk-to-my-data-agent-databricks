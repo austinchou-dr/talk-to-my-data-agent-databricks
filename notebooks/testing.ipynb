{
  "cells": [
    {
      "cell_type": "code",
      "execution_count": null,
      "id": "2f8740b7-c82b-4d2e-93d2-6efb50379cf9",
      "metadata": {},
      "outputs": [],
      "source": [
        "%load_ext autoreload\n",
        "%autoreload 2"
      ]
    },
    {
      "cell_type": "code",
      "execution_count": null,
      "id": "669c6bfd-6e26-444e-9172-ed0e9e8f1f0d",
      "metadata": {},
      "outputs": [],
      "source": [
        "# mypy: disable-error-code=\"import-not-found\"\n",
        "\n",
        "# The notebook should be executed from the project root directory\n",
        "import os\n",
        "import sys\n",
        "from pathlib import Path\n",
        "\n",
        "if \"_correct_path\" not in locals():\n",
        "    os.chdir(\"..\")\n",
        "    sys.path.append(\".\")\n",
        "    print(f\"changed dir to {Path('.').resolve()})\")\n",
        "    _correct_path = True"
      ]
    },
    {
      "cell_type": "code",
      "execution_count": null,
      "id": "5d10cc7a-7726-4347-be51-ec2f3cbd16cf",
      "metadata": {},
      "outputs": [],
      "source": [
        "import os\n",
        "\n",
        "import polars as pl\n",
        "\n",
        "from utils.schema import AnalystDataset"
      ]
    },
    {
      "cell_type": "code",
      "execution_count": null,
      "id": "cd2c6386-e2f8-4242-94ed-7208dbe444b2",
      "metadata": {},
      "outputs": [],
      "source": [
        "dataset_url = \"https://s3.amazonaws.com/datarobot_public_datasets/10k_diabetes_20.csv\"\n",
        "\n",
        "df = pl.read_csv(dataset_url, infer_schema_length=10000)\n",
        "\n",
        "# Create dataset dictionary\n",
        "dataset = AnalystDataset(\n",
        "    name=os.path.splitext(os.path.basename(dataset_url))[0], data=df\n",
        ")"
      ]
    },
    {
      "cell_type": "code",
      "execution_count": null,
      "id": "9e83a91e-527d-4b10-81f3-c9b0064019f9",
      "metadata": {},
      "outputs": [],
      "source": [
        "from datetime import datetime\n",
        "\n",
        "from utils.api import cleanse_dataframe\n",
        "\n",
        "start = datetime.now()\n",
        "\n",
        "cleansed_data = await cleanse_dataframe(dataset)\n",
        "\n",
        "end = datetime.now()\n",
        "print(f\"Time taken: {end - start}\")\n",
        "analysis_data = cleansed_data"
      ]
    },
    {
      "cell_type": "code",
      "execution_count": null,
      "id": "c3f2fc51-7da7-4275-af20-a0cf73a79f9e",
      "metadata": {},
      "outputs": [],
      "source": [
        "cleansed_data.cleaning_report"
      ]
    },
    {
      "cell_type": "code",
      "execution_count": null,
      "id": "7ff43da3-d95c-4549-9db7-a844a028264c",
      "metadata": {},
      "outputs": [],
      "source": [
        "from utils.api import suggest_questions\n",
        "\n",
        "suggested_questions = await suggest_questions([analysis_data])"
      ]
    },
    {
      "cell_type": "code",
      "execution_count": null,
      "id": "490e6c48-580d-435d-901c-87fdf1bde41e",
      "metadata": {},
      "outputs": [],
      "source": [
        "from utils.api import rephrase_message\n",
        "from utils.schema import ChatRequest\n",
        "\n",
        "question = \"What is the relationship between length of stay and readmission?\"\n",
        "chat_response = await rephrase_message(\n",
        "    messages=ChatRequest(\n",
        "        messages=[\n",
        "            {\n",
        "                \"role\": \"user\",\n",
        "                \"content\": question,\n",
        "            },\n",
        "            {\n",
        "                \"role\": \"user\",\n",
        "                \"content\": question + \"Please order the chart by readmission rate\",\n",
        "            },\n",
        "        ],\n",
        "    )\n",
        ")"
      ]
    },
    {
      "cell_type": "code",
      "execution_count": null,
      "id": "65e18da5-c7ab-4428-83c2-ff6c06a25772",
      "metadata": {},
      "outputs": [],
      "source": [
        "from utils.api import get_dictionary\n",
        "\n",
        "dictionary = await get_dictionary(analysis_data)"
      ]
    },
    {
      "cell_type": "code",
      "execution_count": null,
      "id": "003cddbe-db80-4986-9f9c-046e11b32276",
      "metadata": {},
      "outputs": [],
      "source": [
        "from utils.analyst_db import AnalystDB\n",
        "\n",
        "analyst_db = await AnalystDB.create(\n",
        "    \"user_123\",\n",
        "    \".\",\n",
        "    \"chats\",\n",
        "    \"datasets\",\n",
        ")\n",
        "\n",
        "await analyst_db.register_dataset(analysis_data)\n",
        "\n",
        "await analyst_db.register_data_dictionary(dictionary)"
      ]
    },
    {
      "cell_type": "code",
      "execution_count": null,
      "id": "efc5ca7a-0e34-4a7a-8db3-c1ee4e5eed79",
      "metadata": {},
      "outputs": [],
      "source": [
        "from utils.api import run_analysis\n",
        "from utils.schema import RunAnalysisRequest\n",
        "\n",
        "analysis_request = RunAnalysisRequest(\n",
        "    dataset_names=[analysis_data.name],\n",
        "    question=chat_response,\n",
        ")\n",
        "analysis_result = await run_analysis(analysis_request, analyst_db=analyst_db)"
      ]
    },
    {
      "cell_type": "code",
      "execution_count": null,
      "id": "43fbd3ae-94a4-423c-bbb1-8f2657390446",
      "metadata": {},
      "outputs": [],
      "source": [
        "import asyncio\n",
        "\n",
        "from utils.api import get_business_analysis, run_charts\n",
        "from utils.schema import (\n",
        "    DataDictionary,\n",
        "    GetBusinessAnalysisRequest,\n",
        "    RunChartsRequest,\n",
        ")\n",
        "\n",
        "# Prepare requests\n",
        "chart_request = RunChartsRequest(\n",
        "    dataset=analysis_result.dataset,\n",
        "    question=chat_response,\n",
        ")\n",
        "\n",
        "business_request = GetBusinessAnalysisRequest(\n",
        "    dataset=analysis_result.dataset,\n",
        "    dictionary=DataDictionary.from_analyst_df(analysis_result.dataset.to_df()),\n",
        "    question=chat_response,\n",
        ")\n",
        "\n",
        "# Create and start tasks immediately\n",
        "charts_task = asyncio.create_task(run_charts(chart_request))\n",
        "business_task = asyncio.create_task(get_business_analysis(business_request))"
      ]
    },
    {
      "cell_type": "code",
      "execution_count": null,
      "id": "f8ee2fac-9712-4ada-bf74-bd248aa546f7",
      "metadata": {},
      "outputs": [],
      "source": [
        "import plotly.offline as pyo\n",
        "\n",
        "from utils.schema import GetBusinessAnalysisResult, RunChartsResult\n",
        "\n",
        "pyo.init_notebook_mode()\n",
        "\n",
        "tasks = [charts_task, business_task]\n",
        "\n",
        "# Wait for each task to complete\n",
        "for coro in asyncio.as_completed(tasks):\n",
        "    result = await coro\n",
        "\n",
        "    # Determine which task completed by checking the result structure\n",
        "    if isinstance(result, RunChartsResult) and (result.fig1 or result.fig2):\n",
        "        if result.fig1:\n",
        "            pyo.iplot(result.fig1)\n",
        "        if result.fig2:\n",
        "            pyo.iplot(result.fig2)\n",
        "\n",
        "    elif isinstance(result, GetBusinessAnalysisResult):\n",
        "        print(f\"Bottom Line:\\n{(result.bottom_line or '')}\")\n",
        "\n",
        "        print(f\"Additional Insights:\\n{result.additional_insights}\")\n",
        "\n",
        "        print(\"Follow-up Questions:\")\n",
        "        for q in result.follow_up_questions:\n",
        "            print(f\"- {q}\")"
      ]
    },
    {
      "cell_type": "code",
      "execution_count": null,
      "id": "49fff3d9-dea9-4a0e-8ec4-012bcb5b25f8",
      "metadata": {},
      "outputs": [],
      "source": [
        "with open(\"tests/models/run_analysis_result.json\", \"w\") as f:\n",
        "    f.write(analysis_result.model_dump_json(indent=4))\n",
        "with open(\"tests/models/run_charts_result.json\", \"w\") as f:\n",
        "    f.write(charts_task.result().model_dump_json(indent=4))\n",
        "with open(\"tests/models/run_business_result.json\", \"w\") as f:\n",
        "    f.write(business_task.result().model_dump_json(indent=4))"
      ]
    },
    {
      "cell_type": "code",
      "execution_count": null,
      "id": "06ecab43-8290-4011-b3ae-66c78ed036ad",
      "metadata": {},
      "outputs": [],
      "source": [
        "import asyncio\n",
        "\n",
        "from utils.api import get_dictionary\n",
        "from utils.database_helpers import Database\n",
        "\n",
        "db_tables = Database.get_tables()\n",
        "db_dataset_names = await Database.get_data(\n",
        "    *db_tables, analyst_db=analyst_db, sample_size=5000\n",
        ")\n",
        "\n",
        "db_datasets = await asyncio.gather(\n",
        "    *[analyst_db.get_dataset(name) for name in db_dataset_names]\n",
        ")\n",
        "db_dictionaries = await asyncio.gather(\n",
        "    *[get_dictionary(db_dataset) for db_dataset in db_datasets]\n",
        ")"
      ]
    },
    {
      "cell_type": "code",
      "execution_count": null,
      "id": "ab6d6a58-cb17-42d2-a7a5-f3f659dc6349",
      "metadata": {},
      "outputs": [],
      "source": [
        "from utils.api import suggest_questions\n",
        "\n",
        "suggested_questions = await suggest_questions(db_datasets)"
      ]
    },
    {
      "cell_type": "code",
      "execution_count": null,
      "id": "512415f7-c2b6-4b24-b20c-fdb86adfbe15",
      "metadata": {},
      "outputs": [],
      "source": [
        "suggested_questions"
      ]
    },
    {
      "cell_type": "code",
      "execution_count": null,
      "id": "7fd05e37-dcb9-4bd7-b02f-f8f1a87ba51e",
      "metadata": {},
      "outputs": [],
      "source": [
        "from utils.api import run_database_analysis\n",
        "from utils.schema import RunDatabaseAnalysisRequest\n",
        "\n",
        "db_run_analysis = await run_database_analysis(\n",
        "    RunDatabaseAnalysisRequest(\n",
        "        dataset_names=[db_datasets[0].name],\n",
        "        question=\"How does loan default rate relate to type of loan?\",\n",
        "    ),\n",
        "    analyst_db=analyst_db,\n",
        ")"
      ]
    },
    {
      "cell_type": "code",
      "execution_count": null,
      "id": "b0d13075-928c-4632-bb70-51b076f04be6",
      "metadata": {},
      "outputs": [],
      "source": [
        "db_run_analysis.code"
      ]
    },
    {
      "cell_type": "code",
      "execution_count": null,
      "id": "14206930-47e0-4108-be02-5af69df898ba",
      "metadata": {},
      "outputs": [],
      "source": []
    }
  ],
  "metadata": {
    "kernelspec": {
      "display_name": "Python 3 (ipykernel)",
      "name": "python3"
    },
    "language_info": {
      "name": "python"
    }
  },
  "nbformat": 4,
  "nbformat_minor": 5
}